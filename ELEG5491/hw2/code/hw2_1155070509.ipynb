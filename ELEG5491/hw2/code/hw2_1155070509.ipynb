{
 "cells": [
  {
   "cell_type": "code",
   "execution_count": 1,
   "metadata": {
    "collapsed": true,
    "deletable": true,
    "editable": true
   },
   "outputs": [],
   "source": [
    "from __future__ import print_function\n",
    "import math\n",
    "import numpy as np\n",
    "import time\n",
    "import torch\n",
    "import torch.nn as nn\n",
    "import torch.nn.functional as F\n",
    "import torch.optim as optim\n",
    "from torchvision import datasets, transforms\n",
    "from torch.autograd import Variable"
   ]
  },
  {
   "cell_type": "code",
   "execution_count": 2,
   "metadata": {
    "collapsed": true,
    "deletable": true,
    "editable": true
   },
   "outputs": [],
   "source": [
    "# Training settings\n",
    "use_cuda = True\n",
    "seed = int(time.time())\n",
    "epochs = 10\n",
    "log_interval = 100\n",
    "batch_size = 32\n",
    "test_batch_size = 32\n",
    "lr = 1e-3\n",
    "momentum = 0.9\n",
    "weight_decay = 5e-4"
   ]
  },
  {
   "cell_type": "code",
   "execution_count": 3,
   "metadata": {
    "collapsed": false,
    "deletable": true,
    "editable": true
   },
   "outputs": [
    {
     "name": "stdout",
     "output_type": "stream",
     "text": [
      "Files already downloaded and verified\n",
      "Files already downloaded and verified\n"
     ]
    }
   ],
   "source": [
    "torch.manual_seed(seed)\n",
    "if use_cuda:\n",
    "    torch.cuda.manual_seed(seed)\n",
    "\n",
    "kwargs = {'num_workers': 1, 'pin_memory': True} if use_cuda else {}\n",
    "# The output of torchvision datasets are PILImage images of range [0, 1].\n",
    "# We transform them to Tensors of normalized range [-1, 1]\n",
    "transform = transforms.Compose([\n",
    "    transforms.ToTensor(),\n",
    "    transforms.Normalize((0.5, 0.5, 0.5), (0.5, 0.5, 0.5)),\n",
    "])\n",
    "trainset = datasets.CIFAR10(\n",
    "    root='./data', train=True, download=True, transform=transform)\n",
    "train_loader = torch.utils.data.DataLoader(\n",
    "    trainset, batch_size=batch_size, shuffle=True, **kwargs)\n",
    "\n",
    "testset = datasets.CIFAR10(\n",
    "    root='./data', train=False, download=True, transform=transform)\n",
    "test_loader = torch.utils.data.DataLoader(\n",
    "    testset, batch_size=test_batch_size, shuffle=False, **kwargs)\n",
    "classes = ('plane', 'car', 'bird', 'cat', 'deer', 'dog', 'frog', 'horse',\n",
    "           'ship', 'truck')"
   ]
  },
  {
   "cell_type": "code",
   "execution_count": 4,
   "metadata": {
    "collapsed": true,
    "deletable": true,
    "editable": true
   },
   "outputs": [],
   "source": [
    "class Net(nn.Module):\n",
    "    def __init__(self):\n",
    "        super(Net, self).__init__()\n",
    "        self.conv1 = nn.Conv2d(3, 6, 5)\n",
    "        self.bn1 = nn.BatchNorm2d(6)\n",
    "        self.conv2 = nn.Conv2d(6, 16, 5)\n",
    "        self.bn2 = nn.BatchNorm2d(16)\n",
    "        self.pool = nn.MaxPool2d(2, 2)\n",
    "        self.dropout = nn.Dropout(0.5)\n",
    "        self.fc1 = nn.Linear(400, 120)\n",
    "        self.bn3 = nn.BatchNorm1d(120)\n",
    "        self.fc2 = nn.Linear(120, 84)\n",
    "        self.bn4 = nn.BatchNorm1d(84)\n",
    "        self.fc3 = nn.Linear(84, 10)\n",
    "#         self.msra_init()\n",
    "\n",
    "    def forward(self, x):\n",
    "        x = self.pool(F.relu(self.bn1(self.conv1(x))))\n",
    "        x = self.pool(F.relu(self.bn2(self.conv2(x))))\n",
    "        x = x.view(-1, 400)\n",
    "        x = F.relu(self.bn3(self.fc1(x)))\n",
    "        x = F.relu(self.bn4(self.fc2(x)))\n",
    "        x = F.relu(self.fc3(x))\n",
    "        return F.log_softmax(x)\n",
    "    \n",
    "    def msra_init(self):\n",
    "        for m in self.modules():\n",
    "            if isinstance(m, nn.Conv2d):\n",
    "                n = m.kernel_size[0] * m.kernel_size[1] * m.in_channels\n",
    "                m.weight.data.normal_(0, math.sqrt(2.0 / n))\n",
    "            elif isinstance(m, nn.Linear):\n",
    "                n = m.weight.size(1)\n",
    "                m.weight.data.normal_(0, math.sqrt(2.0 / n))"
   ]
  },
  {
   "cell_type": "code",
   "execution_count": 5,
   "metadata": {
    "collapsed": true,
    "deletable": true,
    "editable": true
   },
   "outputs": [],
   "source": [
    "model = Net()\n",
    "if use_cuda:\n",
    "    model.cuda()\n",
    "\n",
    "optimizer = optim.SGD(model.parameters(),\n",
    "                      lr=lr,\n",
    "                      momentum=momentum,\n",
    "                      weight_decay=weight_decay)"
   ]
  },
  {
   "cell_type": "code",
   "execution_count": 6,
   "metadata": {
    "collapsed": true,
    "deletable": true,
    "editable": true
   },
   "outputs": [],
   "source": [
    "losses = []\n",
    "\n",
    "def train(epoch):\n",
    "    model.train()\n",
    "    for batch_idx, (data, target) in enumerate(train_loader):\n",
    "        if use_cuda:\n",
    "            data, target = data.cuda(), target.cuda()\n",
    "        data, target = Variable(data), Variable(target)\n",
    "        optimizer.zero_grad()\n",
    "        output = model(data)\n",
    "        loss = F.nll_loss(output, target)\n",
    "        losses.append(loss.data.cpu().numpy())\n",
    "        loss.backward()\n",
    "        optimizer.step()\n",
    "        if batch_idx % log_interval == 0:\n",
    "            print('Train Epoch: {} [{}/{} ({:.0f}%)]\\tLoss: {:.6f}'.format(\n",
    "                epoch, batch_idx * len(data),\n",
    "                len(train_loader.dataset), 100. * batch_idx / len(\n",
    "                    train_loader), loss.data[0]))\n",
    "\n",
    "def test(epoch):\n",
    "    model.eval()\n",
    "    test_loss = 0\n",
    "    correct = 0\n",
    "    for data, target in test_loader:\n",
    "        if use_cuda:\n",
    "            data, target = data.cuda(), target.cuda()\n",
    "        data, target = Variable(data, volatile=True), Variable(target)\n",
    "        output = model(data)\n",
    "        test_loss += F.nll_loss(output, target).data[0]\n",
    "        # get the index of the max log-probability\n",
    "        pred = output.data.max(1)[1]\n",
    "        correct += pred.eq(target.data).cpu().sum()\n",
    "\n",
    "    test_loss = test_loss\n",
    "    test_loss /= len(\n",
    "        test_loader)  # loss function already averages over batch size\n",
    "    print('\\nTest set: Average loss: {:.4f}, Accuracy: {}/{} ({:.0f}%)\\n'.\n",
    "          format(test_loss, correct,\n",
    "                 len(test_loader.dataset), 100. * correct / len(\n",
    "                     test_loader.dataset)))"
   ]
  },
  {
   "cell_type": "code",
   "execution_count": null,
   "metadata": {
    "collapsed": false,
    "deletable": true,
    "editable": true
   },
   "outputs": [
    {
     "name": "stdout",
     "output_type": "stream",
     "text": [
      "Train Epoch: 1 [0/50000 (0%)]\tLoss: 2.330851\n",
      "Train Epoch: 1 [3200/50000 (6%)]\tLoss: 2.292078\n",
      "Train Epoch: 1 [6400/50000 (13%)]\tLoss: 2.194024\n",
      "Train Epoch: 1 [9600/50000 (19%)]\tLoss: 1.953787\n",
      "Train Epoch: 1 [12800/50000 (26%)]\tLoss: 2.106939\n",
      "Train Epoch: 1 [16000/50000 (32%)]\tLoss: 1.998696\n",
      "Train Epoch: 1 [19200/50000 (38%)]\tLoss: 1.786219\n",
      "Train Epoch: 1 [22400/50000 (45%)]\tLoss: 1.953417\n",
      "Train Epoch: 1 [25600/50000 (51%)]\tLoss: 1.819096\n",
      "Train Epoch: 1 [28800/50000 (58%)]\tLoss: 1.481907\n",
      "Train Epoch: 1 [32000/50000 (64%)]\tLoss: 1.636282\n",
      "Train Epoch: 1 [35200/50000 (70%)]\tLoss: 1.758203\n",
      "Train Epoch: 1 [38400/50000 (77%)]\tLoss: 1.590373\n",
      "Train Epoch: 1 [41600/50000 (83%)]\tLoss: 1.643961\n",
      "Train Epoch: 1 [44800/50000 (90%)]\tLoss: 1.666894\n",
      "Train Epoch: 1 [48000/50000 (96%)]\tLoss: 1.600801\n",
      "Train Epoch: 2 [0/50000 (0%)]\tLoss: 1.761935\n",
      "Train Epoch: 2 [3200/50000 (6%)]\tLoss: 1.465265\n",
      "Train Epoch: 2 [6400/50000 (13%)]\tLoss: 1.674551\n",
      "Train Epoch: 2 [9600/50000 (19%)]\tLoss: 1.731768\n",
      "Train Epoch: 2 [12800/50000 (26%)]\tLoss: 1.434665\n",
      "Train Epoch: 2 [16000/50000 (32%)]\tLoss: 1.607594\n",
      "Train Epoch: 2 [19200/50000 (38%)]\tLoss: 1.589720\n",
      "Train Epoch: 2 [22400/50000 (45%)]\tLoss: 1.200382\n",
      "Train Epoch: 2 [25600/50000 (51%)]\tLoss: 1.459723\n",
      "Train Epoch: 2 [28800/50000 (58%)]\tLoss: 1.233593\n",
      "Train Epoch: 2 [32000/50000 (64%)]\tLoss: 1.546687\n",
      "Train Epoch: 2 [35200/50000 (70%)]\tLoss: 1.411523\n",
      "Train Epoch: 2 [38400/50000 (77%)]\tLoss: 1.452412\n",
      "Train Epoch: 2 [41600/50000 (83%)]\tLoss: 1.443783\n",
      "Train Epoch: 2 [44800/50000 (90%)]\tLoss: 1.347890\n",
      "Train Epoch: 2 [48000/50000 (96%)]\tLoss: 1.616711\n",
      "Train Epoch: 3 [0/50000 (0%)]\tLoss: 1.471709\n",
      "Train Epoch: 3 [3200/50000 (6%)]\tLoss: 1.152597\n",
      "Train Epoch: 3 [6400/50000 (13%)]\tLoss: 1.229116\n",
      "Train Epoch: 3 [9600/50000 (19%)]\tLoss: 1.575336\n",
      "Train Epoch: 3 [12800/50000 (26%)]\tLoss: 1.377614\n",
      "Train Epoch: 3 [16000/50000 (32%)]\tLoss: 1.419243\n",
      "Train Epoch: 3 [19200/50000 (38%)]\tLoss: 1.222249\n",
      "Train Epoch: 3 [22400/50000 (45%)]\tLoss: 0.995390\n",
      "Train Epoch: 3 [25600/50000 (51%)]\tLoss: 1.271849\n",
      "Train Epoch: 3 [28800/50000 (58%)]\tLoss: 1.295497\n",
      "Train Epoch: 3 [32000/50000 (64%)]\tLoss: 1.413309\n",
      "Train Epoch: 3 [35200/50000 (70%)]\tLoss: 1.095139\n",
      "Train Epoch: 3 [38400/50000 (77%)]\tLoss: 1.527152\n",
      "Train Epoch: 3 [41600/50000 (83%)]\tLoss: 1.338931\n",
      "Train Epoch: 3 [44800/50000 (90%)]\tLoss: 1.086434\n",
      "Train Epoch: 3 [48000/50000 (96%)]\tLoss: 1.221261\n",
      "Train Epoch: 4 [0/50000 (0%)]\tLoss: 1.678538\n",
      "Train Epoch: 4 [3200/50000 (6%)]\tLoss: 1.227072\n",
      "Train Epoch: 4 [6400/50000 (13%)]\tLoss: 1.472313\n",
      "Train Epoch: 4 [9600/50000 (19%)]\tLoss: 1.274694\n",
      "Train Epoch: 4 [12800/50000 (26%)]\tLoss: 1.537191\n",
      "Train Epoch: 4 [16000/50000 (32%)]\tLoss: 1.138140\n",
      "Train Epoch: 4 [19200/50000 (38%)]\tLoss: 1.094663\n",
      "Train Epoch: 4 [22400/50000 (45%)]\tLoss: 1.802258\n",
      "Train Epoch: 4 [25600/50000 (51%)]\tLoss: 1.445722\n",
      "Train Epoch: 4 [28800/50000 (58%)]\tLoss: 1.291489\n",
      "Train Epoch: 4 [32000/50000 (64%)]\tLoss: 1.133260\n",
      "Train Epoch: 4 [35200/50000 (70%)]\tLoss: 1.369901\n",
      "Train Epoch: 4 [38400/50000 (77%)]\tLoss: 1.245910\n",
      "Train Epoch: 4 [41600/50000 (83%)]\tLoss: 1.043736\n",
      "Train Epoch: 4 [44800/50000 (90%)]\tLoss: 1.172276\n",
      "Train Epoch: 4 [48000/50000 (96%)]\tLoss: 1.007021\n",
      "Train Epoch: 5 [0/50000 (0%)]\tLoss: 1.364515\n",
      "Train Epoch: 5 [3200/50000 (6%)]\tLoss: 1.167778\n",
      "Train Epoch: 5 [6400/50000 (13%)]\tLoss: 1.040331\n",
      "Train Epoch: 5 [9600/50000 (19%)]\tLoss: 0.869632\n",
      "Train Epoch: 5 [12800/50000 (26%)]\tLoss: 0.942203\n",
      "Train Epoch: 5 [16000/50000 (32%)]\tLoss: 1.122748\n",
      "Train Epoch: 5 [19200/50000 (38%)]\tLoss: 1.273003\n",
      "Train Epoch: 5 [22400/50000 (45%)]\tLoss: 1.356665\n",
      "Train Epoch: 5 [25600/50000 (51%)]\tLoss: 1.171872\n",
      "Train Epoch: 5 [28800/50000 (58%)]\tLoss: 1.199842\n",
      "Train Epoch: 5 [32000/50000 (64%)]\tLoss: 1.252662\n",
      "Train Epoch: 5 [35200/50000 (70%)]\tLoss: 1.306817\n",
      "Train Epoch: 5 [38400/50000 (77%)]\tLoss: 0.848485\n",
      "Train Epoch: 5 [41600/50000 (83%)]\tLoss: 1.096011\n",
      "Train Epoch: 5 [44800/50000 (90%)]\tLoss: 1.146873\n",
      "Train Epoch: 5 [48000/50000 (96%)]\tLoss: 1.424101\n",
      "Train Epoch: 6 [0/50000 (0%)]\tLoss: 1.054298\n",
      "Train Epoch: 6 [3200/50000 (6%)]\tLoss: 1.208461\n",
      "Train Epoch: 6 [6400/50000 (13%)]\tLoss: 1.106932\n",
      "Train Epoch: 6 [9600/50000 (19%)]\tLoss: 1.538634\n",
      "Train Epoch: 6 [12800/50000 (26%)]\tLoss: 0.751064\n",
      "Train Epoch: 6 [16000/50000 (32%)]\tLoss: 1.249939\n",
      "Train Epoch: 6 [19200/50000 (38%)]\tLoss: 0.840071\n",
      "Train Epoch: 6 [22400/50000 (45%)]\tLoss: 1.210310\n",
      "Train Epoch: 6 [25600/50000 (51%)]\tLoss: 1.271168\n",
      "Train Epoch: 6 [28800/50000 (58%)]\tLoss: 1.019602\n",
      "Train Epoch: 6 [32000/50000 (64%)]\tLoss: 1.223960\n",
      "Train Epoch: 6 [35200/50000 (70%)]\tLoss: 1.336073\n",
      "Train Epoch: 6 [38400/50000 (77%)]\tLoss: 1.511290\n",
      "Train Epoch: 6 [41600/50000 (83%)]\tLoss: 1.229239\n",
      "Train Epoch: 6 [44800/50000 (90%)]\tLoss: 1.035137\n",
      "Train Epoch: 6 [48000/50000 (96%)]\tLoss: 1.274725\n",
      "Train Epoch: 7 [0/50000 (0%)]\tLoss: 1.070519\n",
      "Train Epoch: 7 [3200/50000 (6%)]\tLoss: 1.149694\n",
      "Train Epoch: 7 [6400/50000 (13%)]\tLoss: 0.960697\n",
      "Train Epoch: 7 [9600/50000 (19%)]\tLoss: 1.112515\n",
      "Train Epoch: 7 [12800/50000 (26%)]\tLoss: 1.101055\n",
      "Train Epoch: 7 [16000/50000 (32%)]\tLoss: 0.948598\n",
      "Train Epoch: 7 [19200/50000 (38%)]\tLoss: 1.055334\n",
      "Train Epoch: 7 [22400/50000 (45%)]\tLoss: 1.265787\n",
      "Train Epoch: 7 [25600/50000 (51%)]\tLoss: 0.951849\n",
      "Train Epoch: 7 [28800/50000 (58%)]\tLoss: 1.412032\n",
      "Train Epoch: 7 [32000/50000 (64%)]\tLoss: 1.017222\n",
      "Train Epoch: 7 [35200/50000 (70%)]\tLoss: 1.149116\n",
      "Train Epoch: 7 [38400/50000 (77%)]\tLoss: 1.252773\n",
      "Train Epoch: 7 [41600/50000 (83%)]\tLoss: 1.115917\n",
      "Train Epoch: 7 [44800/50000 (90%)]\tLoss: 1.001869\n",
      "Train Epoch: 7 [48000/50000 (96%)]\tLoss: 1.046508\n",
      "Train Epoch: 8 [0/50000 (0%)]\tLoss: 1.071881\n",
      "Train Epoch: 8 [3200/50000 (6%)]\tLoss: 0.949735\n",
      "Train Epoch: 8 [6400/50000 (13%)]\tLoss: 1.319525\n",
      "Train Epoch: 8 [9600/50000 (19%)]\tLoss: 1.457086\n",
      "Train Epoch: 8 [12800/50000 (26%)]\tLoss: 1.153514\n",
      "Train Epoch: 8 [16000/50000 (32%)]\tLoss: 1.129828\n",
      "Train Epoch: 8 [19200/50000 (38%)]\tLoss: 1.481274\n",
      "Train Epoch: 8 [22400/50000 (45%)]\tLoss: 0.929763\n",
      "Train Epoch: 8 [25600/50000 (51%)]\tLoss: 0.830958\n",
      "Train Epoch: 8 [28800/50000 (58%)]\tLoss: 1.058593\n",
      "Train Epoch: 8 [32000/50000 (64%)]\tLoss: 1.000707\n",
      "Train Epoch: 8 [35200/50000 (70%)]\tLoss: 1.159741\n",
      "Train Epoch: 8 [38400/50000 (77%)]\tLoss: 0.718925\n",
      "Train Epoch: 8 [41600/50000 (83%)]\tLoss: 1.479129\n",
      "Train Epoch: 8 [44800/50000 (90%)]\tLoss: 0.900265\n",
      "Train Epoch: 8 [48000/50000 (96%)]\tLoss: 1.174449\n",
      "Train Epoch: 9 [0/50000 (0%)]\tLoss: 0.848152\n",
      "Train Epoch: 9 [3200/50000 (6%)]\tLoss: 0.935182\n",
      "Train Epoch: 9 [6400/50000 (13%)]\tLoss: 1.092559\n",
      "Train Epoch: 9 [9600/50000 (19%)]\tLoss: 0.812839\n",
      "Train Epoch: 9 [12800/50000 (26%)]\tLoss: 0.981728\n",
      "Train Epoch: 9 [16000/50000 (32%)]\tLoss: 0.939734\n",
      "Train Epoch: 9 [19200/50000 (38%)]\tLoss: 1.000965\n",
      "Train Epoch: 9 [22400/50000 (45%)]\tLoss: 0.808212\n",
      "Train Epoch: 9 [25600/50000 (51%)]\tLoss: 1.260122\n",
      "Train Epoch: 9 [28800/50000 (58%)]\tLoss: 0.943873\n",
      "Train Epoch: 9 [32000/50000 (64%)]\tLoss: 1.108023\n",
      "Train Epoch: 9 [35200/50000 (70%)]\tLoss: 0.852403\n",
      "Train Epoch: 9 [38400/50000 (77%)]\tLoss: 0.841917\n",
      "Train Epoch: 9 [41600/50000 (83%)]\tLoss: 1.068504\n",
      "Train Epoch: 9 [44800/50000 (90%)]\tLoss: 0.972362\n",
      "Train Epoch: 9 [48000/50000 (96%)]\tLoss: 0.802184\n",
      "Train Epoch: 10 [0/50000 (0%)]\tLoss: 1.025708\n",
      "Train Epoch: 10 [3200/50000 (6%)]\tLoss: 1.008313\n",
      "Train Epoch: 10 [6400/50000 (13%)]\tLoss: 0.769199\n",
      "Train Epoch: 10 [9600/50000 (19%)]\tLoss: 0.819927\n"
     ]
    }
   ],
   "source": [
    "for epoch in range(1, epochs + 1):\n",
    "    train(epoch)\n",
    "test(epoch)"
   ]
  },
  {
   "cell_type": "code",
   "execution_count": 8,
   "metadata": {
    "collapsed": false,
    "deletable": true,
    "editable": true
   },
   "outputs": [],
   "source": [
    "params = [param.data.cpu().numpy() for param in model.parameters()]\n",
    "filters = params[0]\n",
    "losses = np.concatenate(losses)"
   ]
  },
  {
   "cell_type": "code",
   "execution_count": 9,
   "metadata": {
    "collapsed": false
   },
   "outputs": [
    {
     "data": {
      "image/png": "[encoded data removed]",
      "text/plain": [
       "<matplotlib.figure.Figure at 0x7f457dfa8160>"
      ]
     },
     "metadata": {},
     "output_type": "display_data"
    }
   ],
   "source": [
    "import matplotlib.pyplot as plt\n",
    "\n",
    "f, axarr = plt.subplots(3, 6)\n",
    "for i in range(3):\n",
    "    for j in range(6):\n",
    "        axarr[i, j].imshow(filters[j, i, ...], cmap='gray')\n",
    "        axarr[i, j].axis('off')\n",
    "plt.show()"
   ]
  },
  {
   "cell_type": "code",
   "execution_count": 15,
   "metadata": {
    "collapsed": false
   },
   "outputs": [
    {
     "data": {
      "image/png": "[encoded data removed]",
      "text/plain": [
       "<matplotlib.figure.Figure at 0x7f452032d080>"
      ]
     },
     "metadata": {},
     "output_type": "display_data"
    }
   ],
   "source": [
    "smooth_iter = 5\n",
    "loss_smooth = losses.reshape(int(losses.size / smooth_iter), smooth_iter).mean(axis=1)\n",
    "plt.plot(loss_smooth)\n",
    "plt.title('Training loss curve')\n",
    "plt.xlabel('epoch')\n",
    "plt.ylabel('loss')\n",
    "step = int(len(loss_smooth) / 10)\n",
    "x = np.array(range(0, len(loss_smooth) + 1, step))\n",
    "labels = x / step\n",
    "plt.xticks(x, labels)\n",
    "plt.show()"
   ]
  },
  {
   "cell_type": "code",
   "execution_count": null,
   "metadata": {
    "collapsed": true
   },
   "outputs": [],
   "source": []
  }
 ],
 "metadata": {
  "kernelspec": {
   "display_name": "Python 3",
   "language": "python",
   "name": "python3"
  },
  "language_info": {
   "codemirror_mode": {
    "name": "ipython",
    "version": 3
   },
   "file_extension": ".py",
   "mimetype": "text/x-python",
   "name": "python",
   "nbconvert_exporter": "python",
   "pygments_lexer": "ipython3",
   "version": "3.5.2"
  }
 },
 "nbformat": 4,
 "nbformat_minor": 2
}
